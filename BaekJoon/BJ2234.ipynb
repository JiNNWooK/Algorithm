{
 "cells": [
  {
   "cell_type": "markdown",
   "metadata": {},
   "source": [
    "# BaekJoon Alg Prob No.2234\n",
    "- - -\n",
    "1. 문제 해결을 위하여 ~~Stack~~Queue Data Structure를 사용\n",
    "2. 해당 문제는 ~~DFS~~BFS를 이용하기 위해 ~~Stack~~Queue를 사용\n",
    "3. 파이썬 비트 연산 이용\n",
    ">1. **& (Binary AND) : bit 단위로 and연산을 합니다.**  \n",
    ">2. | (Binary OR) : bit 단위로 or연산을 합니다.  \n",
    ">3. ^ (Binary XOR) : bit 단위로 xor연산을 합니다.  \n",
    ">4. ~ (Binary NOT) : bit 단위로 not연산을 합니다.(1의 보수)  \n",
    ">5. << (Binary left Shift) : bit 단위로 왼쪽으로 비트단위 밀기 연산을 합니다. \n",
    ">6. &gt;&gt; (Binary right Shift) : bit 단위로 오른쪽으로 비트단위 밀기 연산을 합니다.  \n",
    "- - -\n",
    "ps. 비트연산 어캐 생각하냐고..........  \n",
    "DFS로 바꿔보기\n"
   ]
  },
  {
   "cell_type": "code",
   "execution_count": 13,
   "metadata": {},
   "outputs": [
    {
     "name": "stdout",
     "output_type": "stream",
     "text": [
      "7 4\n",
      "11 6 11 6 3 10 6    \n",
      "7 9 6 13 5 15 5     \n",
      "1 10 12 7 13 7 5     \n",
      "13 11 10 8 10 12 13\n",
      "[5, [9, 3, 8, 1, 7], [9, 9, 9, 9, 12, 12, 3, 12, 3, 11, 11, 8, 8, 9, 8, 8, 9, 9, 9, 9, 9, 12, 12, 12, 11, 10, 11, 9, 9, 9, 9, 8, 9, 8, 9, 9, 16, 16, 16, 16, 10, 15, 15, 15, 15, 15, 8, 15, 15, 8, 9, 16, 9, 16, 16, 7, 16, 7, 7, 15, 7, 15, 7, 15, 8, 8]]\n"
     ]
    }
   ],
   "source": [
    "from collections import deque\n",
    "dirList=[[0,-1],[-1,0],[0,1],[1,0]]\n",
    "n, m = map(int, input().split())\n",
    "s = [list(map(int, input().split())) for i in range(m)]\n",
    "visitList = [[0] * n for i in range(m)]\n",
    "resultAry=[0,[],[]]\n",
    "\n",
    "def BFS(i, j,visitList):\n",
    "    q = deque()\n",
    "    q.append([i, j])\n",
    "    visitList[i][j] = 1\n",
    "    cnt = 1\n",
    "    while q:\n",
    "        x, y = q.popleft()\n",
    "        for k in range(4):\n",
    "            new_x = x + dirList[k][0]\n",
    "            new_y = y + dirList[k][1]\n",
    "            if 0 <= new_x < m and 0 <= new_y < n and visitList[new_x][new_y] == 0:\n",
    "                if k == 0 and (1 & s[x][y]):\n",
    "                    continue\n",
    "                elif k == 1 and (2 & s[x][y]):\n",
    "                    continue\n",
    "                elif k == 2 and (4 & s[x][y]):\n",
    "                    continue\n",
    "                elif k == 3 and (8 & s[x][y]):\n",
    "                    continue\n",
    "                visitList[new_x][new_y] = 1\n",
    "                q.append([new_x, new_y])\n",
    "                cnt += 1\n",
    "    return cnt\n",
    "\n",
    "for i in range(m):\n",
    "    for j in range(n):\n",
    "        if visitList[i][j] == 0:\n",
    "            resultAry[0] += 1\n",
    "            resultAry[1].append(BFS(i, j,visitList))\n",
    "for i in range(m):\n",
    "    for j in range(n):\n",
    "        for k in [1,2,4,8]:\n",
    "            if k & s[i][j]:\n",
    "                visitList = [[0] * n for _ in range(m)]\n",
    "                s[i][j] -= k\n",
    "                resultAry[2].append(BFS(i, j,visitList))\n",
    "                s[i][j] += k\n",
    "            \n",
    "print(resultAry[0])\n",
    "print(max(resultAry[1]))\n",
    "print(max(resultAry[2]))"
   ]
  }
 ],
 "metadata": {
  "kernelspec": {
   "display_name": "Python 3",
   "language": "python",
   "name": "python3"
  },
  "language_info": {
   "codemirror_mode": {
    "name": "ipython",
    "version": 3
   },
   "file_extension": ".py",
   "mimetype": "text/x-python",
   "name": "python",
   "nbconvert_exporter": "python",
   "pygments_lexer": "ipython3",
   "version": "3.7.7"
  }
 },
 "nbformat": 4,
 "nbformat_minor": 4
}
