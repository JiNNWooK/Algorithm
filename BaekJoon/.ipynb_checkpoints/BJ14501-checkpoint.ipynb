{
 "cells": [
  {
   "cell_type": "markdown",
   "metadata": {},
   "source": [
    "# BaekJoon Alg No.14501\n",
    "- - -\n",
    "### 퇴사 문제</p>\n",
    ">이 문제는 문제의 분류를 처음에는 Dynamic Programming으로 생각</p>\n",
    ">하지만 문제를 해결을 하면서 DP문제로 해결하였다는 느낌을 받지는 못했던 문제</p>\n",
    ">다른 해결 방법을 찾아 봐야 함\n",
    "\n"
   ]
  },
  {
   "cell_type": "code",
   "execution_count": 1,
   "metadata": {},
   "outputs": [
    {
     "name": "stdout",
     "output_type": "stream",
     "text": [
      "10 \n",
      "5 10\n",
      "5 9\n",
      "5 8\n",
      "5 7\n",
      "5 6\n",
      "5 10\n",
      "5 9\n",
      "5 8\n",
      "5 7\n",
      "5 6\n",
      "20\n"
     ]
    }
   ],
   "source": [
    "n = int(input())\n",
    "schedule=[tuple(map(int,input().split())) for _ in range(n)]\n",
    "fin_total=0\n",
    "def calc_money(startday,total):\n",
    "    global fin_total\n",
    "    if startday>n:\n",
    "        return\n",
    "    elif startday==n:\n",
    "        fin_total=max(total,fin_total)\n",
    "    else:\n",
    "        calc_money(startday+1,total)\n",
    "        calc_money(startday+schedule[startday][0],total+schedule[startday][1])\n",
    "calc_money(0,fin_total)\n",
    "print(fin_total)"
   ]
  }
 ],
 "metadata": {
  "kernelspec": {
   "display_name": "Python 3",
   "language": "python",
   "name": "python3"
  },
  "language_info": {
   "codemirror_mode": {
    "name": "ipython",
    "version": 3
   },
   "file_extension": ".py",
   "mimetype": "text/x-python",
   "name": "python",
   "nbconvert_exporter": "python",
   "pygments_lexer": "ipython3",
   "version": "3.7.7"
  }
 },
 "nbformat": 4,
 "nbformat_minor": 4
}
