{
 "cells": [
  {
   "cell_type": "code",
   "execution_count": 6,
   "metadata": {},
   "outputs": [
    {
     "name": "stdout",
     "output_type": "stream",
     "text": [
      "11 10\n",
      "7 4 0\n",
      "1 1 1 1 1 1 1 1 1 1 \n",
      "1 0 0 0 0 0 0 0 0 1 \n",
      "1 0 0 0 1 1 1 1 0 1 \n",
      "1 0 0 1 1 0 0 0 0 1 \n",
      "1 0 1 1 0 0 0 0 0 1  \n",
      "1 0 0 0 0 0 0 0 0 1\n",
      "1 0 0 0 0 0 0 1 0 1  \n",
      "1 0 0 0 0 0 1 1 0 1 \n",
      "1 0 0 0 0 0 1 1 0 1\n",
      "1 0 0 0 0 0 0 0 0 1  \n",
      "1 1 1 1 1 1 1 1 1 1\n",
      "57\n"
     ]
    }
   ],
   "source": [
    "n, m = map(int, input().split())\n",
    "x, y, d = map(int, input().split())# r=x,y=c,d=d\n",
    "inputList = [list(map(int, input().split())) for _ in range(n)]\n",
    "\n",
    "# 북쪽 : 0 , 동쪽 : 1, 남쪽 : 2, 서쪽 : 3\n",
    "dirList=[[-1,0],[0,1],[1,0],[0,-1]]\n",
    "inputList[x][y] = 1 # 빈칸 : 0, 벽 : 1, 청소 : 2\n",
    "\n",
    "def solve(x, y, d):\n",
    "    global ans\n",
    "    inputList[x][y]=2\n",
    "    check = False\n",
    "    while True:\n",
    "        new_direct=d\n",
    "        for _ in range(4):\n",
    "            check=False\n",
    "            new_direct=(new_direct+3)%4\n",
    "            new_x,new_y=x+dirList[new_direct][0],y+dirList[new_direct][1]\n",
    "            if (0<=new_x<n) and (0<=new_y<m) and (inputList[new_x][new_y] == 0):\n",
    "                ans+=1\n",
    "                inputList[new_x][new_y]=2\n",
    "                x,y=new_x,new_y\n",
    "                d=new_direct\n",
    "#                 for i in inputList:\n",
    "#                     print(i)\n",
    "                check=True\n",
    "                break\n",
    "        if check == False:\n",
    "            back_direct=(d+2)%4\n",
    "            x,y=x+dirList[back_direct][0],y+dirList[back_direct][1]\n",
    "            if inputList[x][y]==1:\n",
    "                break\n",
    "    return ans        \n",
    "\n",
    "# def printlist(listA):\n",
    "#     for i in listA:\n",
    "#         print(i)\n",
    "ans=1\n",
    "print(solve(x, y, d))\n"
   ]
  }
 ],
 "metadata": {
  "kernelspec": {
   "display_name": "Python 3",
   "language": "python",
   "name": "python3"
  },
  "language_info": {
   "codemirror_mode": {
    "name": "ipython",
    "version": 3
   },
   "file_extension": ".py",
   "mimetype": "text/x-python",
   "name": "python",
   "nbconvert_exporter": "python",
   "pygments_lexer": "ipython3",
   "version": "3.7.7"
  }
 },
 "nbformat": 4,
 "nbformat_minor": 4
}
