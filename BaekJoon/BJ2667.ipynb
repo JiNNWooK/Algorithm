{
 "cells": [
  {
   "cell_type": "markdown",
   "metadata": {},
   "source": [
    "# BaekJoon Alg No.2667\n",
    "- - -\n",
    "### 아파트 단지 문제</p>\n",
    ">이 문제는 처음에는 그래프문제로 접근을 하였지만 일반적인 그래프로는 실마리가 보이지 않아</p>\n",
    ">DFS(Depth First Search)로 접근을 하여 해결\n",
    "\n"
   ]
  },
  {
   "cell_type": "code",
   "execution_count": 100,
   "metadata": {},
   "outputs": [
    {
     "name": "stdout",
     "output_type": "stream",
     "text": [
      "7\n",
      "0110100\n",
      "0110101\n",
      "1110101\n",
      "0000111\n",
      "0100000\n",
      "0111110\n",
      "0111000\n"
     ]
    }
   ],
   "source": [
    "import copy\n",
    "line=int(input())\n",
    "inputList=[]\n",
    "for i in range(line):\n",
    "    sublist=list(input())\n",
    "    inputList.append(list(map(int,sublist)))"
   ]
  },
  {
   "cell_type": "code",
   "execution_count": 113,
   "metadata": {},
   "outputs": [],
   "source": [
    "visitlist=[[0 for x in range(line)] for x in range(line)]"
   ]
  },
  {
   "cell_type": "code",
   "execution_count": 114,
   "metadata": {},
   "outputs": [],
   "source": [
    "copylist=copy.deepcopy(inputList)"
   ]
  },
  {
   "cell_type": "code",
   "execution_count": 115,
   "metadata": {},
   "outputs": [
    {
     "data": {
      "text/plain": [
       "[[0, 1, 1, 0, 1, 0, 0],\n",
       " [0, 1, 1, 0, 1, 0, 1],\n",
       " [1, 1, 1, 0, 1, 0, 1],\n",
       " [0, 0, 0, 0, 1, 1, 1],\n",
       " [0, 1, 0, 0, 0, 0, 0],\n",
       " [0, 1, 1, 1, 1, 1, 0],\n",
       " [0, 1, 1, 1, 0, 0, 0]]"
      ]
     },
     "execution_count": 115,
     "metadata": {},
     "output_type": "execute_result"
    }
   ],
   "source": [
    "inputList"
   ]
  },
  {
   "cell_type": "code",
   "execution_count": 116,
   "metadata": {},
   "outputs": [],
   "source": [
    "dx=[-1,1,0,0]\n",
    "dy=[0,0,1,-1]"
   ]
  },
  {
   "cell_type": "code",
   "execution_count": 118,
   "metadata": {},
   "outputs": [],
   "source": [
    "def dfs(x,y):\n",
    "    global visitlist\n",
    "    global Num_appt\n",
    "    global copylist\n",
    "    visitlist[x][y]=1\n",
    "    if copylist[x][y] is 1:\n",
    "        Num_appt+=1\n",
    "    for i in range(4): \n",
    "        new_dx=x+dx[i]\n",
    "        new_dy=y+dy[i]\n",
    "        global line\n",
    "        if (0<=new_dx and new_dx<line) and (0<=new_dy and new_dy<line):\n",
    "            if visitlist[new_dx][new_dy]==0 and copylist[new_dx][new_dy]==1:\n",
    "                dfs(new_dx,new_dy)"
   ]
  },
  {
   "cell_type": "code",
   "execution_count": 119,
   "metadata": {},
   "outputs": [],
   "source": [
    "Num_appt=0\n",
    "numberofApptlist=[]\n",
    "for i in range(line):\n",
    "    for j in range(line):\n",
    "        if copylist[i][j]==1 and visitlist[i][j]==0:\n",
    "            dfs(i,j)\n",
    "            numberofApptlist.append(Num_appt)\n",
    "            Num_appt=0"
   ]
  },
  {
   "cell_type": "code",
   "execution_count": 120,
   "metadata": {},
   "outputs": [
    {
     "name": "stdout",
     "output_type": "stream",
     "text": [
      "3\n"
     ]
    }
   ],
   "source": [
    "print(len(numberofApptlist))"
   ]
  },
  {
   "cell_type": "code",
   "execution_count": 121,
   "metadata": {},
   "outputs": [
    {
     "name": "stdout",
     "output_type": "stream",
     "text": [
      "7\n",
      "8\n",
      "9\n"
     ]
    }
   ],
   "source": [
    "for n in sorted(numberofApptlist):\n",
    "    print(n)"
   ]
  }
 ],
 "metadata": {
  "kernelspec": {
   "display_name": "Python 3",
   "language": "python",
   "name": "python3"
  },
  "language_info": {
   "codemirror_mode": {
    "name": "ipython",
    "version": 3
   },
   "file_extension": ".py",
   "mimetype": "text/x-python",
   "name": "python",
   "nbconvert_exporter": "python",
   "pygments_lexer": "ipython3",
   "version": "3.7.7"
  }
 },
 "nbformat": 4,
 "nbformat_minor": 4
}
