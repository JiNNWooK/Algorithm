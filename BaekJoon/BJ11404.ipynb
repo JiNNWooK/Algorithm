{
 "cells": [
  {
   "cell_type": "markdown",
   "metadata": {},
   "source": [
    "# BaekJoon  Prob No.11404\n",
    "- - - - - - - -\n",
    "참고 : https://engkimbs.tistory.com/371\n",
    "> 이번 문제는 Floyd - Warshall Algorithm에 관한 문제이며, 경로의 최솟값을 구하는 문제이다.</br>\n",
    "> 해당 문제는 이 Floyd-Warshall 문제의 대표제 문제이며, 해당 알고리즘은 다음과 같다</br>\n",
    "> ``` python3\n",
    "cost[i][j]=min(cost[i][j],cost[i][k]+cost[k][j])```"
   ]
  },
  {
   "cell_type": "code",
   "execution_count": 1,
   "metadata": {},
   "outputs": [
    {
     "ename": "ValueError",
     "evalue": "invalid literal for int() with base 10: ''",
     "output_type": "error",
     "traceback": [
      "\u001b[1;31m---------------------------------------------------------------------------\u001b[0m",
      "\u001b[1;31mValueError\u001b[0m                                Traceback (most recent call last)",
      "\u001b[1;32m<ipython-input-1-d395e4320cfc>\u001b[0m in \u001b[0;36m<module>\u001b[1;34m\u001b[0m\n\u001b[0;32m      1\u001b[0m \u001b[1;32mimport\u001b[0m \u001b[0msys\u001b[0m\u001b[1;33m\u001b[0m\u001b[1;33m\u001b[0m\u001b[0m\n\u001b[1;32m----> 2\u001b[1;33m \u001b[0mn\u001b[0m\u001b[1;33m=\u001b[0m\u001b[0mint\u001b[0m\u001b[1;33m(\u001b[0m\u001b[0msys\u001b[0m\u001b[1;33m.\u001b[0m\u001b[0mstdin\u001b[0m\u001b[1;33m.\u001b[0m\u001b[0mreadline\u001b[0m\u001b[1;33m(\u001b[0m\u001b[1;33m)\u001b[0m\u001b[1;33m)\u001b[0m\u001b[1;33m\u001b[0m\u001b[1;33m\u001b[0m\u001b[0m\n\u001b[0m\u001b[0;32m      3\u001b[0m \u001b[0mm\u001b[0m\u001b[1;33m=\u001b[0m\u001b[0mint\u001b[0m\u001b[1;33m(\u001b[0m\u001b[0msys\u001b[0m\u001b[1;33m.\u001b[0m\u001b[0mstdin\u001b[0m\u001b[1;33m.\u001b[0m\u001b[0mreadline\u001b[0m\u001b[1;33m(\u001b[0m\u001b[1;33m)\u001b[0m\u001b[1;33m)\u001b[0m\u001b[1;33m\u001b[0m\u001b[1;33m\u001b[0m\u001b[0m\n\u001b[0;32m      4\u001b[0m \u001b[0mcostMap\u001b[0m \u001b[1;33m=\u001b[0m \u001b[1;33m[\u001b[0m\u001b[1;33m[\u001b[0m\u001b[1;36m10000000000\u001b[0m\u001b[1;33m]\u001b[0m \u001b[1;33m*\u001b[0m \u001b[0mn\u001b[0m \u001b[1;32mfor\u001b[0m \u001b[0m_\u001b[0m \u001b[1;32min\u001b[0m \u001b[0mrange\u001b[0m\u001b[1;33m(\u001b[0m\u001b[0mn\u001b[0m\u001b[1;33m)\u001b[0m\u001b[1;33m]\u001b[0m\u001b[1;33m\u001b[0m\u001b[1;33m\u001b[0m\u001b[0m\n\u001b[0;32m      5\u001b[0m \u001b[1;33m\u001b[0m\u001b[0m\n",
      "\u001b[1;31mValueError\u001b[0m: invalid literal for int() with base 10: ''"
     ]
    }
   ],
   "source": [
    "import sys\n",
    "# n=int(sys.stdin.readline())\n",
    "# m=int(sys.stdin.readline())\n",
    "n=int(input())\n",
    "m=int(input())\n",
    "costMap = [[10000000000] * n for _ in range(n)]\n",
    "\n",
    "for i in range(m):\n",
    "#     a,b,c=map(int,sys.stdin.readline().split())\n",
    "    a,b,c=map(int,input().split())\n",
    "    if costMap[a-1][b-1]>c:### 해당 if문으로 새로운 입력값이 기존 입력 값에 비해 \n",
    "        costMap[a-1][b-1]=c###작을때만 배열에 저장해주기 위해 사용\n",
    "    \n",
    "\n",
    "for k in range(n):### 해당 Floyd-Warshall 알고리즘 적용 부분\n",
    "    for i in range(n):\n",
    "        for j in range(n):\n",
    "            if i != j and costMap[i][j]>costMap[i][k]+costMap[k][j]:\n",
    "                costMap[i][j]=costMap[i][k]+costMap[k][j]\n",
    "\n",
    "for i in range(n):###출력 부분\n",
    "    costMap[i][i]=0\n",
    "    for j in range(n):\n",
    "        print(costMap[i][j],end=' ')\n",
    "    print()"
   ]
  },
  {
   "cell_type": "code",
   "execution_count": null,
   "metadata": {},
   "outputs": [],
   "source": []
  }
 ],
 "metadata": {
  "kernelspec": {
   "display_name": "Python 3",
   "language": "python",
   "name": "python3"
  },
  "language_info": {
   "codemirror_mode": {
    "name": "ipython",
    "version": 3
   },
   "file_extension": ".py",
   "mimetype": "text/x-python",
   "name": "python",
   "nbconvert_exporter": "python",
   "pygments_lexer": "ipython3",
   "version": "3.7.7"
  }
 },
 "nbformat": 4,
 "nbformat_minor": 4
}
